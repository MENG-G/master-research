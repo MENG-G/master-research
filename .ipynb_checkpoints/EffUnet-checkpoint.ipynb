{
 "cells": [
  {
   "cell_type": "markdown",
   "metadata": {},
   "source": [
    "## original image -> $f( \\theta )$ -> output mask"
   ]
  },
  {
   "cell_type": "code",
   "execution_count": 1,
   "metadata": {},
   "outputs": [],
   "source": [
    "import numpy as np\n",
    "import pathlib\n",
    "import pandas as pd\n",
    "import numba, cv2, gc, os, glob\n",
    "from tqdm.notebook import tqdm\n",
    "import matplotlib.pyplot as plt\n",
    "\n",
    "from albumentations import *\n",
    "\n",
    "import torch\n",
    "import torch.nn as nn\n",
    "\n",
    "from segmentation_models_pytorch.unet import Unet\n",
    "# from segmentation_models_pytorch.deeplabv3 import DeepLabV3Plus\n",
    "\n",
    "from segmentation_models_pytorch.encoders import get_preprocessing_fn\n",
    "\n",
    "import warnings\n",
    "warnings.filterwarnings('ignore')\n",
    "\n",
    "import re"
   ]
  },
  {
   "cell_type": "code",
   "execution_count": 2,
   "metadata": {},
   "outputs": [
    {
     "name": "stdout",
     "output_type": "stream",
     "text": [
      "C:\\Users\\kakum\\Desktop\\02_Research\\00_Experimental Data\\20210127_purewater\n"
     ]
    }
   ],
   "source": [
    "import os\n",
    "\n",
    "os.chdir(\"../02_Research/00_Experimental Data/20210127_purewater/\")\n",
    "print(os.getcwd())"
   ]
  },
  {
   "cell_type": "code",
   "execution_count": 2,
   "metadata": {},
   "outputs": [],
   "source": [
    "class DropletModel(nn.Module):\n",
    "    def __init__(self):\n",
    "        super(DropletModel, self).__init__()\n",
    "        self.model = Unet(encoder_name = ENCODER_NAME, \n",
    "                          encoder_weights = 'imagenet',\n",
    "                          classes = 1,\n",
    "                          activation = 'sigmoid')\n",
    "        \n",
    "        \n",
    "    def forward(self, images):\n",
    "        img_masks = self.model(images)\n",
    "        return img_masks"
   ]
  },
  {
   "cell_type": "code",
   "execution_count": 15,
   "metadata": {},
   "outputs": [
    {
     "name": "stdout",
     "output_type": "stream",
     "text": [
      "(540, 720)\n"
     ]
    },
    {
     "data": {
      "image/png": "[encoded data removed]",
      "text/plain": [
       "<Figure size 432x288 with 1 Axes>"
      ]
     },
     "metadata": {
      "needs_background": "light"
     },
     "output_type": "display_data"
    },
    {
     "ename": "ValueError",
     "evalue": "operands could not be broadcast together with shapes (480,640) (3,) ",
     "output_type": "error",
     "traceback": [
      "\u001b[1;31m---------------------------------------------------------------------------\u001b[0m",
      "\u001b[1;31mValueError\u001b[0m                                Traceback (most recent call last)",
      "\u001b[1;32m<ipython-input-15-036644f75964>\u001b[0m in \u001b[0;36m<module>\u001b[1;34m\u001b[0m\n\u001b[0;32m     48\u001b[0m \u001b[0mplt\u001b[0m\u001b[1;33m.\u001b[0m\u001b[0mshow\u001b[0m\u001b[1;33m(\u001b[0m\u001b[1;33m)\u001b[0m\u001b[1;33m\u001b[0m\u001b[1;33m\u001b[0m\u001b[0m\n\u001b[0;32m     49\u001b[0m \u001b[1;33m\u001b[0m\u001b[0m\n\u001b[1;32m---> 50\u001b[1;33m \u001b[0mimg\u001b[0m \u001b[1;33m=\u001b[0m \u001b[0mpreprocessing_fn\u001b[0m\u001b[1;33m(\u001b[0m\u001b[0mimage\u001b[0m \u001b[1;33m=\u001b[0m \u001b[0mimg\u001b[0m\u001b[1;33m)\u001b[0m\u001b[1;33m[\u001b[0m\u001b[1;34m'image'\u001b[0m\u001b[1;33m]\u001b[0m\u001b[1;33m\u001b[0m\u001b[1;33m\u001b[0m\u001b[0m\n\u001b[0m\u001b[0;32m     51\u001b[0m \u001b[1;31m# # # change channel to be the first\u001b[0m\u001b[1;33m\u001b[0m\u001b[1;33m\u001b[0m\u001b[1;33m\u001b[0m\u001b[0m\n\u001b[0;32m     52\u001b[0m \u001b[0mimg\u001b[0m \u001b[1;33m=\u001b[0m \u001b[0mimg\u001b[0m\u001b[1;33m.\u001b[0m\u001b[0mtranspose\u001b[0m\u001b[1;33m(\u001b[0m\u001b[1;33m(\u001b[0m\u001b[1;36m2\u001b[0m\u001b[1;33m,\u001b[0m \u001b[1;36m0\u001b[0m\u001b[1;33m,\u001b[0m \u001b[1;36m1\u001b[0m\u001b[1;33m)\u001b[0m\u001b[1;33m)\u001b[0m\u001b[1;33m\u001b[0m\u001b[1;33m\u001b[0m\u001b[0m\n",
      "\u001b[1;32m~\\Anaconda3\\lib\\site-packages\\albumentations\\core\\transforms_interface.py\u001b[0m in \u001b[0;36m__call__\u001b[1;34m(self, force_apply, *args, **kwargs)\u001b[0m\n\u001b[0;32m     87\u001b[0m                     )\n\u001b[0;32m     88\u001b[0m                 \u001b[0mkwargs\u001b[0m\u001b[1;33m[\u001b[0m\u001b[0mself\u001b[0m\u001b[1;33m.\u001b[0m\u001b[0msave_key\u001b[0m\u001b[1;33m]\u001b[0m\u001b[1;33m[\u001b[0m\u001b[0mid\u001b[0m\u001b[1;33m(\u001b[0m\u001b[0mself\u001b[0m\u001b[1;33m)\u001b[0m\u001b[1;33m]\u001b[0m \u001b[1;33m=\u001b[0m \u001b[0mdeepcopy\u001b[0m\u001b[1;33m(\u001b[0m\u001b[0mparams\u001b[0m\u001b[1;33m)\u001b[0m\u001b[1;33m\u001b[0m\u001b[1;33m\u001b[0m\u001b[0m\n\u001b[1;32m---> 89\u001b[1;33m             \u001b[1;32mreturn\u001b[0m \u001b[0mself\u001b[0m\u001b[1;33m.\u001b[0m\u001b[0mapply_with_params\u001b[0m\u001b[1;33m(\u001b[0m\u001b[0mparams\u001b[0m\u001b[1;33m,\u001b[0m \u001b[1;33m**\u001b[0m\u001b[0mkwargs\u001b[0m\u001b[1;33m)\u001b[0m\u001b[1;33m\u001b[0m\u001b[1;33m\u001b[0m\u001b[0m\n\u001b[0m\u001b[0;32m     90\u001b[0m \u001b[1;33m\u001b[0m\u001b[0m\n\u001b[0;32m     91\u001b[0m         \u001b[1;32mreturn\u001b[0m \u001b[0mkwargs\u001b[0m\u001b[1;33m\u001b[0m\u001b[1;33m\u001b[0m\u001b[0m\n",
      "\u001b[1;32m~\\Anaconda3\\lib\\site-packages\\albumentations\\core\\transforms_interface.py\u001b[0m in \u001b[0;36mapply_with_params\u001b[1;34m(self, params, force_apply, **kwargs)\u001b[0m\n\u001b[0;32m    100\u001b[0m                 \u001b[0mtarget_function\u001b[0m \u001b[1;33m=\u001b[0m \u001b[0mself\u001b[0m\u001b[1;33m.\u001b[0m\u001b[0m_get_target_function\u001b[0m\u001b[1;33m(\u001b[0m\u001b[0mkey\u001b[0m\u001b[1;33m)\u001b[0m\u001b[1;33m\u001b[0m\u001b[1;33m\u001b[0m\u001b[0m\n\u001b[0;32m    101\u001b[0m                 \u001b[0mtarget_dependencies\u001b[0m \u001b[1;33m=\u001b[0m \u001b[1;33m{\u001b[0m\u001b[0mk\u001b[0m\u001b[1;33m:\u001b[0m \u001b[0mkwargs\u001b[0m\u001b[1;33m[\u001b[0m\u001b[0mk\u001b[0m\u001b[1;33m]\u001b[0m \u001b[1;32mfor\u001b[0m \u001b[0mk\u001b[0m \u001b[1;32min\u001b[0m \u001b[0mself\u001b[0m\u001b[1;33m.\u001b[0m\u001b[0mtarget_dependence\u001b[0m\u001b[1;33m.\u001b[0m\u001b[0mget\u001b[0m\u001b[1;33m(\u001b[0m\u001b[0mkey\u001b[0m\u001b[1;33m,\u001b[0m \u001b[1;33m[\u001b[0m\u001b[1;33m]\u001b[0m\u001b[1;33m)\u001b[0m\u001b[1;33m}\u001b[0m\u001b[1;33m\u001b[0m\u001b[1;33m\u001b[0m\u001b[0m\n\u001b[1;32m--> 102\u001b[1;33m                 \u001b[0mres\u001b[0m\u001b[1;33m[\u001b[0m\u001b[0mkey\u001b[0m\u001b[1;33m]\u001b[0m \u001b[1;33m=\u001b[0m \u001b[0mtarget_function\u001b[0m\u001b[1;33m(\u001b[0m\u001b[0marg\u001b[0m\u001b[1;33m,\u001b[0m \u001b[1;33m**\u001b[0m\u001b[0mdict\u001b[0m\u001b[1;33m(\u001b[0m\u001b[0mparams\u001b[0m\u001b[1;33m,\u001b[0m \u001b[1;33m**\u001b[0m\u001b[0mtarget_dependencies\u001b[0m\u001b[1;33m)\u001b[0m\u001b[1;33m)\u001b[0m\u001b[1;33m\u001b[0m\u001b[1;33m\u001b[0m\u001b[0m\n\u001b[0m\u001b[0;32m    103\u001b[0m             \u001b[1;32melse\u001b[0m\u001b[1;33m:\u001b[0m\u001b[1;33m\u001b[0m\u001b[1;33m\u001b[0m\u001b[0m\n\u001b[0;32m    104\u001b[0m                 \u001b[0mres\u001b[0m\u001b[1;33m[\u001b[0m\u001b[0mkey\u001b[0m\u001b[1;33m]\u001b[0m \u001b[1;33m=\u001b[0m \u001b[1;32mNone\u001b[0m\u001b[1;33m\u001b[0m\u001b[1;33m\u001b[0m\u001b[0m\n",
      "\u001b[1;32m~\\Anaconda3\\lib\\site-packages\\albumentations\\augmentations\\transforms.py\u001b[0m in \u001b[0;36mapply\u001b[1;34m(self, img, **params)\u001b[0m\n\u001b[0;32m   3075\u001b[0m     \u001b[1;32mdef\u001b[0m \u001b[0mapply\u001b[0m\u001b[1;33m(\u001b[0m\u001b[0mself\u001b[0m\u001b[1;33m,\u001b[0m \u001b[0mimg\u001b[0m\u001b[1;33m,\u001b[0m \u001b[1;33m**\u001b[0m\u001b[0mparams\u001b[0m\u001b[1;33m)\u001b[0m\u001b[1;33m:\u001b[0m\u001b[1;33m\u001b[0m\u001b[1;33m\u001b[0m\u001b[0m\n\u001b[0;32m   3076\u001b[0m         \u001b[0mfn\u001b[0m \u001b[1;33m=\u001b[0m \u001b[0mself\u001b[0m\u001b[1;33m.\u001b[0m\u001b[0mcustom_apply_fns\u001b[0m\u001b[1;33m[\u001b[0m\u001b[1;34m\"image\"\u001b[0m\u001b[1;33m]\u001b[0m\u001b[1;33m\u001b[0m\u001b[1;33m\u001b[0m\u001b[0m\n\u001b[1;32m-> 3077\u001b[1;33m         \u001b[1;32mreturn\u001b[0m \u001b[0mfn\u001b[0m\u001b[1;33m(\u001b[0m\u001b[0mimg\u001b[0m\u001b[1;33m,\u001b[0m \u001b[1;33m**\u001b[0m\u001b[0mparams\u001b[0m\u001b[1;33m)\u001b[0m\u001b[1;33m\u001b[0m\u001b[1;33m\u001b[0m\u001b[0m\n\u001b[0m\u001b[0;32m   3078\u001b[0m \u001b[1;33m\u001b[0m\u001b[0m\n\u001b[0;32m   3079\u001b[0m     \u001b[1;32mdef\u001b[0m \u001b[0mapply_to_mask\u001b[0m\u001b[1;33m(\u001b[0m\u001b[0mself\u001b[0m\u001b[1;33m,\u001b[0m \u001b[0mmask\u001b[0m\u001b[1;33m,\u001b[0m \u001b[1;33m**\u001b[0m\u001b[0mparams\u001b[0m\u001b[1;33m)\u001b[0m\u001b[1;33m:\u001b[0m\u001b[1;33m\u001b[0m\u001b[1;33m\u001b[0m\u001b[0m\n",
      "\u001b[1;32m~\\Anaconda3\\lib\\site-packages\\segmentation_models_pytorch\\encoders\\_preprocessing.py\u001b[0m in \u001b[0;36mpreprocess_input\u001b[1;34m(x, mean, std, input_space, input_range, **kwargs)\u001b[0m\n\u001b[0;32m     15\u001b[0m     \u001b[1;32mif\u001b[0m \u001b[0mmean\u001b[0m \u001b[1;32mis\u001b[0m \u001b[1;32mnot\u001b[0m \u001b[1;32mNone\u001b[0m\u001b[1;33m:\u001b[0m\u001b[1;33m\u001b[0m\u001b[1;33m\u001b[0m\u001b[0m\n\u001b[0;32m     16\u001b[0m         \u001b[0mmean\u001b[0m \u001b[1;33m=\u001b[0m \u001b[0mnp\u001b[0m\u001b[1;33m.\u001b[0m\u001b[0marray\u001b[0m\u001b[1;33m(\u001b[0m\u001b[0mmean\u001b[0m\u001b[1;33m)\u001b[0m\u001b[1;33m\u001b[0m\u001b[1;33m\u001b[0m\u001b[0m\n\u001b[1;32m---> 17\u001b[1;33m         \u001b[0mx\u001b[0m \u001b[1;33m=\u001b[0m \u001b[0mx\u001b[0m \u001b[1;33m-\u001b[0m \u001b[0mmean\u001b[0m\u001b[1;33m\u001b[0m\u001b[1;33m\u001b[0m\u001b[0m\n\u001b[0m\u001b[0;32m     18\u001b[0m \u001b[1;33m\u001b[0m\u001b[0m\n\u001b[0;32m     19\u001b[0m     \u001b[1;32mif\u001b[0m \u001b[0mstd\u001b[0m \u001b[1;32mis\u001b[0m \u001b[1;32mnot\u001b[0m \u001b[1;32mNone\u001b[0m\u001b[1;33m:\u001b[0m\u001b[1;33m\u001b[0m\u001b[1;33m\u001b[0m\u001b[0m\n",
      "\u001b[1;31mValueError\u001b[0m: operands could not be broadcast together with shapes (480,640) (3,) "
     ]
    }
   ],
   "source": [
    "ENCODER_NAME = 'efficientnet-b4'\n",
    "# device = 'cuda'\n",
    "\n",
    "device = 'cpu'\n",
    "\n",
    "models_path = './fold0_epoch11.pth'\n",
    "\n",
    "preprocessing_fn = Lambda(image = get_preprocessing_fn(encoder_name = ENCODER_NAME,\n",
    "                                                            pretrained = 'imagenet'))\n",
    "model = DropletModel()\n",
    "model.load_state_dict(torch.load(models_path, map_location=torch.device('cpu')))\n",
    "model.float()\n",
    "model.to(device)\n",
    "model.eval()\n",
    "\n",
    "# data_dir_lst = [\"20210507_PW_1\",]\n",
    "\n",
    "# for data_dir in data_dir_lst:\n",
    "#     data_dir_path = f\"./{data_dir}/\"\n",
    "#     img_lst = glob.glob(data_dir_path + \"*.png\")\n",
    "\n",
    "#     for img_path in img_lst:\n",
    "#         img_name = \".\".join(re.split(\"[./\\\\\\]\", img_path)[-3:-1])\n",
    "\n",
    "#         img = cv2.cvtColor(cv2.imread(img_path), cv2.COLOR_BGR2RGB)\n",
    "#         img = preprocessing_fn(image = img)['image']\n",
    "#         # change channel to be the first\n",
    "#         img = img.transpose((2, 0, 1))\n",
    "#         img = torch.from_numpy(img).view([1, 3, 480, 640]).to(device)\n",
    "\n",
    "#         pred_mask_btch = model(img.float())\n",
    "\n",
    "#         pred = pred_mask_btch.detach().numpy().squeeze()\n",
    "\n",
    "#         pred[pred<0] = 0\n",
    "#         pred[pred>0] = 255\n",
    "#         cv2.imwrite(data_dir_path + img_name + \"_mask.png\", pred)\n",
    "# ------------------------------------------------\n",
    "img_path = f\"./10500.000ms.png\"\n",
    "img_name = \".\".join(re.split(\"[./\\\\\\]\", img_path)[-3:-1])\n",
    "\n",
    "img = cv2.cvtColor(cv2.imread(img_path), cv2.COLOR_BGR2GRAY)\n",
    "img = cv2.cvtColor(img, cv2.COLOR_GRAY2RGB)\n",
    "print(img.shape)\n",
    "# # resize\n",
    "img = cv2.resize(img, (640, 480), interpolation=cv2.INTER_LANCZOS4)\n",
    "plt.imshow(img, cmap='gray')\n",
    "plt.show()\n",
    "\n",
    "img = preprocessing_fn(image = img)['image']\n",
    "# # # change channel to be the first\n",
    "img = img.transpose((2, 0, 1))\n",
    "img = torch.from_numpy(img).view([1, 3, 480, 640]).to(device)\n",
    "\n",
    "pred_mask_btch = model(img.float())\n",
    "\n",
    "pred = pred_mask_btch.detach().numpy().squeeze()\n",
    "\n",
    "pred[pred<0.5] = 0\n",
    "pred[pred>0.9999] = 255\n",
    "\n",
    "# # pred = cv2.resize(pred, (256, 160), interpolation=cv2.INTER_LANCZOS4)\n",
    "\n",
    "plt.imshow(pred, cmap='gray')\n",
    "plt.show()\n",
    "# cv2.imwrite(data_dir_path + img_name + \"_mask.png\", pred)"
   ]
  },
  {
   "cell_type": "markdown",
   "metadata": {},
   "source": [
    "## Check of results"
   ]
  },
  {
   "cell_type": "code",
   "execution_count": 4,
   "metadata": {},
   "outputs": [
    {
     "data": {
      "image/png": "[encoded data removed]",
      "text/plain": [
       "<Figure size 360x288 with 3 Axes>"
      ]
     },
     "metadata": {},
     "output_type": "display_data"
    }
   ],
   "source": [
    "import matplotlib.pyplot as plt\n",
    "import cv2\n",
    "import numpy as np\n",
    "\n",
    "font = {'family' : 'Times New Roman', 'weight' : 'normal', 'size'   : 16,}\n",
    "\n",
    "mask = cv2.imread(\"./l130_6/22133.333ms_mask.png\")\n",
    "image = cv2.imread(\"./l130_6/22133.333ms.png\")\n",
    "\n",
    "plt.figure(figsize=(5, 4))\n",
    "\n",
    "plt.subplot(1, 3, 1)\n",
    "image = image[:, :, ::-1]\n",
    "plt.imshow(image)\n",
    "plt.xlabel(\"(a)\", font)\n",
    "plt.xticks([])\n",
    "plt.yticks([])\n",
    "\n",
    "plt.subplot(1, 3, 2)\n",
    "mask = cv2.cvtColor(mask, cv2.COLOR_BGR2GRAY)\n",
    "plt.imshow(mask, cmap=\"gray\")\n",
    "plt.xlabel(\"(b)\", font)\n",
    "plt.xticks([])\n",
    "plt.yticks([])\n",
    "\n",
    "# image[..., 0] = np.where(mask == 255, 255, image[..., 0])\n",
    "# plt.subplot(1, 3, 3)\n",
    "# plt.imshow(image)\n",
    "# plt.xlabel(\"(c)\", font)\n",
    "# plt.xticks([])\n",
    "# plt.yticks([])\n",
    "\n",
    "plt.subplot(1, 3, 3)\n",
    "processed_img = cv2.imread(\"./l130_6/22133.333ms_mask_processed.png\")\n",
    "mask = processed_img[:, :, ::-1]\n",
    "plt.imshow(mask)\n",
    "plt.xlabel(\"(c)\", font)\n",
    "plt.xticks([])\n",
    "plt.yticks([])\n",
    "\n",
    "plt.savefig(\"../compare2.svg\", dpi=500)\n",
    "plt.show()"
   ]
  },
  {
   "cell_type": "markdown",
   "metadata": {},
   "source": [
    "## mask image -> physical parameters(.csv)"
   ]
  },
  {
   "cell_type": "code",
   "execution_count": 3,
   "metadata": {},
   "outputs": [],
   "source": [
    "def cal_line(x1, y1, x2, y2, x_y, flag):\n",
    "    # 1 means horizontal\n",
    "    if flag == 1:\n",
    "        if y1 == y2:\n",
    "            return y1\n",
    "        else:\n",
    "            k = (y2 - y1) / (x2 - x1)\n",
    "            b = (x1 * y2 - x2 * y1) / (x1 - x2)\n",
    "            x3 = x_y\n",
    "            y3 = int(k * x3 + b)\n",
    "        return y3\n",
    "    else:\n",
    "        if x1 == x2:\n",
    "            return x1\n",
    "        else:\n",
    "            k = (y2 - y1) / (x2 - x1)\n",
    "            b = (x1 * y2 - x2 * y1) / (x1 - x2)\n",
    "            y3 = x_y\n",
    "            x3 = int((y3 - b) / k)\n",
    "            return x3\n",
    "\n",
    "pixel_len1 = 0.9748102696798955 # 5x\n",
    "pixel_len2 = 0.2418065541763232 # 20x"
   ]
  },
  {
   "cell_type": "code",
   "execution_count": 4,
   "metadata": {
    "scrolled": false
   },
   "outputs": [],
   "source": [
    "import pandas as pd\n",
    "import glob\n",
    "import re\n",
    "import cv2\n",
    "import matplotlib.pyplot as plt\n",
    "import numpy as np\n",
    "from calculate_volume import get_sphere, get_volume, get_contact_angle, get_distance, get_surface_area\n",
    "import math\n",
    "\n",
    "# papar_lst = [\"l90\", \"l130\", \"l200\", \"l250\", \"o73\", \"o84\", \"o104\", \"o128\"]\n",
    "papar_lst = [ \"o73\" ]\n",
    "data_dir_lst = []\n",
    "for paper_name in papar_lst:\n",
    "    for i in range(1, 8):\n",
    "        data_dir_lst.append(f\"{paper_name}_{i}\")\n",
    "\n",
    "\n",
    "for data_dir in data_dir_lst:\n",
    "    data_dir_path = f\"./{data_dir}/\"\n",
    "    if not os.path.exists(data_dir_path):\n",
    "        continue\n",
    "    \n",
    "    img_lst = glob.glob(data_dir_path + \"*ms_mask.png\")\n",
    "    img_lst = sorted(img_lst, key=lambda x: float(\".\".join(re.split(\"[./\\\\\\m]\", x)[-5:-3])) )\n",
    "\n",
    "    result_dict = {}\n",
    "    for s in [\"time[ms]\", \"bottom_radius[um]\", \"theta[degree]\", \"height[um]\", \"area[m^2]\", \"Mj[pL]\"]:\n",
    "        result_dict[s] = []\n",
    "\n",
    "    for n, img_path in enumerate(img_lst):\n",
    "        img_name = \".\".join(re.split(\"[./\\\\\\]\", img_path)[-3:-1])\n",
    "#         print(float(\".\".join(re.split(\"[./\\\\\\m]\", img_path)[-5:-3])))\n",
    "        \n",
    "        img = cv2.cvtColor(cv2.imread(img_path), cv2.COLOR_BGR2GRAY)\n",
    "        \n",
    "        height, width = img.shape\n",
    "        \n",
    "        contours, _ = cv2.findContours(img, cv2.RETR_LIST, cv2.CHAIN_APPROX_NONE)\n",
    "        contours = sorted(contours, key=lambda c: cv2.arcLength(c, False), reverse=True)\n",
    "        \n",
    "        # x1, y1: bottom left; x2, y2, bottom right;\n",
    "        x1 = contours[0].min(axis=0).squeeze()[0]\n",
    "        x2 = contours[0].max(axis=0).squeeze()[0]\n",
    "        \n",
    "        points_arr1 = contours[0].squeeze()[np.where(contours[0].squeeze() == x1)[0]]\n",
    "        points_arr2 = contours[0].squeeze()[np.where(contours[0].squeeze() == x2)[0]]\n",
    "        \n",
    "        y1, y2 = height, height\n",
    "        for i, (x, y) in enumerate(points_arr1):\n",
    "            if x == x1 and y < y1:\n",
    "                y1 = y\n",
    "        \n",
    "        for i, (x, y) in enumerate(points_arr2):\n",
    "            if x == x2 and y < y2:\n",
    "                y2 = y\n",
    "        \n",
    "#         print(x1, y1)\n",
    "#         print(x2, y2)\n",
    "        \n",
    "        # x0, y0: central point of bottom\n",
    "        x0 = int((x1 + x2) / 2)\n",
    "        y0 = int((y1 + y2) / 2)\n",
    "        \n",
    "        vector1 = np.array([x2 - x1, y2 - y1])\n",
    "        \n",
    "        inner_product = []\n",
    "        for idx, (cnt_x, cnt_y) in enumerate(contours[0].squeeze()):\n",
    "            min_idx = 0\n",
    "            inner_product = np.nan\n",
    "            line_y = cal_line(x1, y1, x2, y2, cnt_x, 1)\n",
    "            if cnt_y <= line_y:\n",
    "                vector2 = np.array([x0 - cnt_x, y0 - cnt_y])\n",
    "                if abs(np.inner(vector1, vector2)) < inner_product:\n",
    "                    inner_product = abs(np.inner(vector1, vector2))\n",
    "                    min_idx = idx\n",
    "        # x3, y3 top point\n",
    "        x3, y3 = contours[0].squeeze()[min_idx]\n",
    "        \n",
    "        # x4, y4: left top; x5, y5: right top;\n",
    "        x4 = int(x1 + ((x2 - x1) / 4))\n",
    "        x5 = int(x2 - ((x2 - x1) / 4))\n",
    "        points_arr4 = contours[0].squeeze()[np.where(contours[0].squeeze() == x4)[0]]\n",
    "        points_arr5 = contours[0].squeeze()[np.where(contours[0].squeeze() == x5)[0]]\n",
    "        \n",
    "        y4, y5 = cal_line(x1, y1, x2, y2, x4, 1), cal_line(x1, y1, x2, y2, x5, 1)\n",
    "        for i, (x, y) in enumerate(points_arr4):\n",
    "            if x == x4 and y < y4:\n",
    "                y4 = y\n",
    "        for i, (x, y) in enumerate(points_arr5):\n",
    "            if x == x5 and y < y5:\n",
    "                y5 = y\n",
    "        \n",
    "        # Calculate\n",
    "        center_x1, center_y1, R1 = get_sphere(x1, y1, x2, y2, x3, y3)\n",
    "        center_x2, center_y2, R2 = get_sphere(x1, y1, x2, y2, x4, y4)\n",
    "        center_x3, center_y3, R3 = get_sphere(x1, y1, x2, y2, x5, y5)\n",
    "        \n",
    "        center_x, center_y, R = np.mean([center_x1, center_x2, center_x3]), \\\n",
    "                                np.mean([center_y1, center_y2, center_y3]), \\\n",
    "                                np.mean([R1, R2, R3])\n",
    "        \n",
    "        # bottom radius\n",
    "        r = (math.sqrt((x2 - x1) ** 2 + (y2 - y1) ** 2) / 2) * pixel_len2  # um\n",
    "        R = R * pixel_len2  # um\n",
    "        # droplet height\n",
    "        h = R - math.sqrt(R ** 2 - r ** 2)\n",
    "        # contact angle\n",
    "        theta = get_contact_angle(h, r)\n",
    "        V = get_volume(r, h)  # pL\n",
    "        S = get_surface_area(R, h) * 10 ** (-12) # m^2\n",
    "        \n",
    "        time_ms = n / 60 * 1000 # ms\n",
    "\n",
    "        result_dict[\"time[ms]\"].append(time_ms)\n",
    "        result_dict[\"bottom_radius[um]\"].append(r)\n",
    "        result_dict[\"theta[degree]\"].append(theta)\n",
    "        result_dict[\"height[um]\"].append(h)\n",
    "        result_dict[\"area[m^2]\"].append(S)\n",
    "        result_dict[\"Mj[pL]\"].append(V)\n",
    "        \n",
    "        # show the results\n",
    "        img = cv2.cvtColor(img, cv2.COLOR_GRAY2BGR)\n",
    "        cv2.drawContours(img, contours, -1, (255,0,0), thickness=3)\n",
    "        cv2.circle(img, (int(center_x), int(center_y)), int(R / pixel_len2), (0, 0, 255), 4)\n",
    "        cv2.circle(img, (x3, y3), 4, (0, 255, 255), 8)\n",
    "        cv2.circle(img, (x1, y1), 1, (0, 255, 255), 8)\n",
    "        cv2.circle(img, (x2, y2), 1, (0, 255, 255), 8)\n",
    "        cv2.circle(img, (x4, y4), 1, (0, 255, 255), 8)\n",
    "        cv2.circle(img, (x5, y5), 1, (0, 255, 255), 8)\n",
    "        \n",
    "        cv2.imwrite(f\"./{data_dir}/{img_name}_processed.png\", img)\n",
    "\n",
    "    df = pd.DataFrame(result_dict)\n",
    "    df.to_csv(f\"./output_results/{data_dir}.csv\", index=False)"
   ]
  },
  {
   "cell_type": "markdown",
   "metadata": {},
   "source": [
    "## Use Otsu"
   ]
  },
  {
   "cell_type": "code",
   "execution_count": 31,
   "metadata": {},
   "outputs": [
    {
     "data": {
      "image/png": "[encoded data removed]",
      "text/plain": [
       "<Figure size 864x360 with 3 Axes>"
      ]
     },
     "metadata": {
      "needs_background": "light"
     },
     "output_type": "display_data"
    }
   ],
   "source": [
    "import matplotlib.pyplot as plt\n",
    "import cv2\n",
    "import numpy as np\n",
    "\n",
    "mask = cv2.imread(\"./o104_3/9300.000ms_mask.png\")\n",
    "image = cv2.imread(\"./o104_3/9300.000ms.png\")\n",
    "\n",
    "plt.figure(figsize=(12, 5))\n",
    "\n",
    "plt.subplot(1, 3, 1)\n",
    "gray_img = cv2.cvtColor(image, cv2.COLOR_BGR2GRAY)\n",
    "_, binary_img = cv2.threshold(gray_img, 0, 255, cv2.THRESH_BINARY+cv2.THRESH_OTSU)\n",
    "plt.imshow(binary_img, cmap=\"gray\")\n",
    "\n",
    "plt.subplot(1, 3, 2)\n",
    "image = image[:, :, ::-1]\n",
    "plt.imshow(image)\n",
    "\n",
    "plt.subplot(1, 3, 3)\n",
    "mask = cv2.bitwise_not(binary_img)\n",
    "plt.imshow(mask, cmap=\"gray\")\n",
    "\n",
    "# image[..., 0] = np.where(mask == 255, 255, image[..., 0])\n",
    "# plt.subplot(1, 3, 3)\n",
    "# plt.imshow(image)\n",
    "\n",
    "# plt.savefig(\"../output_results/compare.png\", dpi=300)\n",
    "plt.show()"
   ]
  },
  {
   "cell_type": "code",
   "execution_count": 32,
   "metadata": {},
   "outputs": [],
   "source": [
    "data_dir_path = f\"./o104_3/\"\n",
    "img_lst = glob.glob(data_dir_path + \"*ms.png\")\n",
    "\n",
    "\n",
    "for i, img_path in enumerate(img_lst):\n",
    "    img_name = \".\".join(re.split(\"[./\\\\\\]\", img_path)[-3:-1])\n",
    "\n",
    "    gray_img = cv2.cvtColor(cv2.imread(img_path), cv2.COLOR_BGR2GRAY)\n",
    "    _, binary_img = cv2.threshold(gray_img, 0, 255, cv2.THRESH_BINARY+cv2.THRESH_OTSU)\n",
    "    mask = cv2.bitwise_not(binary_img)\n",
    "\n",
    "    cv2.imwrite(data_dir_path + img_name + \"_mask.png\", mask)\n",
    "    \n",
    "    if i == 17:\n",
    "        break"
   ]
  }
 ],
 "metadata": {
  "kernelspec": {
   "display_name": "Python 3",
   "language": "python",
   "name": "python3"
  },
  "language_info": {
   "codemirror_mode": {
    "name": "ipython",
    "version": 3
   },
   "file_extension": ".py",
   "mimetype": "text/x-python",
   "name": "python",
   "nbconvert_exporter": "python",
   "pygments_lexer": "ipython3",
   "version": "3.7.7"
  }
 },
 "nbformat": 4,
 "nbformat_minor": 4
}
