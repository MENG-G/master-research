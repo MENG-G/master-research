{
 "cells": [
  {
   "cell_type": "code",
   "execution_count": 5,
   "source": [
    "# environment\r\n",
    "import re\r\n",
    "import numpy as np\r\n",
    "import matplotlib.pyplot as plt\r\n",
    "\r\n",
    "txt_path = '../02_Research/00_Experimental Data/20210704_pigment/pigth.txt'\r\n",
    "temp = []\r\n",
    "humidity = []\r\n",
    "\r\n",
    "with open(txt_path) as f:\r\n",
    "    for i, line in enumerate(f.readlines()):\r\n",
    "        if i <= 4:\r\n",
    "            continue\r\n",
    "        split = re.split(r'[, /\"]', line)\r\n",
    "        t, h = float(split[12]), float(split[17])\r\n",
    "        temp.append(t)\r\n",
    "        humidity.append(h)\r\n",
    "\r\n",
    "print('Avg.Temperature: {:.3f} ℃ ± {:.3f}'.format(np.mean(temp), np.std(temp)))\r\n",
    "print('Avg.Humidity: {:.3f} %RH'.format(np.mean(humidity)))\r\n",
    "\r\n",
    "plt.figure()\r\n",
    "plt.plot(temp, label=\"T\")\r\n",
    "plt.plot(humidity, label=\"RH\")\r\n",
    "plt.legend()\r\n",
    "\r\n",
    "plt.show()"
   ],
   "outputs": [
    {
     "output_type": "stream",
     "name": "stdout",
     "text": [
      "Avg.Temperature: 23.600 ℃ ± 0.545\n",
      "Avg.Humidity: 33.780 %RH\n"
     ]
    },
    {
     "output_type": "display_data",
     "data": {
      "text/plain": [
       "<Figure size 432x288 with 1 Axes>"
      ],
      "image/png": "[encoded data removed]"
     },
     "metadata": {
      "needs_background": "light"
     }
    }
   ],
   "metadata": {}
  },
  {
   "cell_type": "code",
   "execution_count": 10,
   "source": [
    "# initial volume distribution\r\n",
    "import os\r\n",
    "import pandas as pd\r\n",
    "import numpy as np\r\n",
    "\r\n",
    "output_dir = '../output_results'\r\n",
    "papers = ['l90', 'l130', 'l200', 'l250', 'o73', 'o84', 'o104', 'o128', 'next', 'sword']\r\n",
    "initial_volumelist = []\r\n",
    "\r\n",
    "for paper in papers:\r\n",
    "    for i in range(1, 7):\r\n",
    "        file = os.path.join(output_dir, paper+'_'+'{}'.format(i)+'.csv')\r\n",
    "        data = pd.read_csv(file)\r\n",
    "        initial_v = data['volume[pL]'][0]\r\n",
    "        initial_volumelist.append(initial_v)\r\n",
    "\r\n",
    "print(np.mean(initial_volumelist), np.std(initial_volumelist))\r\n",
    "print(np.min(initial_volumelist), np.max(initial_volumelist))\r\n"
   ],
   "outputs": [
    {
     "output_type": "stream",
     "name": "stdout",
     "text": [
      "155.0599985792733 21.553354811667713\n",
      "84.44352880687454 201.7642243\n"
     ]
    }
   ],
   "metadata": {}
  }
 ],
 "metadata": {
  "kernelspec": {
   "display_name": "Python 3",
   "language": "python",
   "name": "python3"
  },
  "language_info": {
   "codemirror_mode": {
    "name": "ipython",
    "version": 3
   },
   "file_extension": ".py",
   "mimetype": "text/x-python",
   "name": "python",
   "nbconvert_exporter": "python",
   "pygments_lexer": "ipython3",
   "version": "3.7.7"
  }
 },
 "nbformat": 4,
 "nbformat_minor": 2
}